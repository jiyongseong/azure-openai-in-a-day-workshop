{
 "cells": [
  {
   "attachments": {},
   "cell_type": "markdown",
   "metadata": {},
   "source": [
    "# Azure OpenAI Service - Chat on private data using LangChain\n",
    "\n",
    "Firstly, create a file called `.env` in this folder, and add the following content, obviously with your values:\n",
    "\n",
    "```\n",
    "OPENAI_API_KEY=xxxxxx\n",
    "OPENAI_API_BASE=https://xxxxxxx.openai.azure.com/\n",
    "```\n",
    "\n",
    "Then, let's install all dependencies:"
   ]
  },
  {
   "cell_type": "code",
   "execution_count": 1,
   "metadata": {},
   "outputs": [
    {
     "name": "stdout",
     "output_type": "stream",
     "text": [
      "Defaulting to user installation because normal site-packages is not writeable\n",
      "Requirement already satisfied: azure-identity==1.6.0 in /home/vscode/.local/lib/python3.9/site-packages (from -r ../requirements.txt (line 1)) (1.6.0)\n",
      "Requirement already satisfied: streamlit==1.18.1 in /home/vscode/.local/lib/python3.9/site-packages (from -r ../requirements.txt (line 2)) (1.18.1)\n",
      "Requirement already satisfied: openai==0.27.1 in /home/vscode/.local/lib/python3.9/site-packages (from -r ../requirements.txt (line 3)) (0.27.1)\n",
      "Requirement already satisfied: python-dotenv==0.21.0 in /home/vscode/.local/lib/python3.9/site-packages (from -r ../requirements.txt (line 4)) (0.21.0)\n",
      "Requirement already satisfied: numpy in /home/vscode/.local/lib/python3.9/site-packages (from -r ../requirements.txt (line 5)) (1.24.3)\n",
      "Requirement already satisfied: pandas in /home/vscode/.local/lib/python3.9/site-packages (from -r ../requirements.txt (line 6)) (2.0.2)\n",
      "Requirement already satisfied: matplotlib==3.6.3 in /home/vscode/.local/lib/python3.9/site-packages (from -r ../requirements.txt (line 7)) (3.6.3)\n",
      "Requirement already satisfied: plotly==5.12.0 in /home/vscode/.local/lib/python3.9/site-packages (from -r ../requirements.txt (line 8)) (5.12.0)\n",
      "Requirement already satisfied: scipy==1.10.0 in /home/vscode/.local/lib/python3.9/site-packages (from -r ../requirements.txt (line 9)) (1.10.0)\n",
      "Requirement already satisfied: scikit-learn==1.2.0 in /home/vscode/.local/lib/python3.9/site-packages (from -r ../requirements.txt (line 10)) (1.2.0)\n",
      "Requirement already satisfied: tenacity in /home/vscode/.local/lib/python3.9/site-packages (from -r ../requirements.txt (line 11)) (8.2.2)\n",
      "Requirement already satisfied: tiktoken==0.3.0 in /home/vscode/.local/lib/python3.9/site-packages (from -r ../requirements.txt (line 12)) (0.3.0)\n",
      "Requirement already satisfied: llama-index==0.4.33 in /home/vscode/.local/lib/python3.9/site-packages (from -r ../requirements.txt (line 13)) (0.4.33)\n",
      "Requirement already satisfied: langchain==0.0.129 in /home/vscode/.local/lib/python3.9/site-packages (from -r ../requirements.txt (line 14)) (0.0.129)\n",
      "Requirement already satisfied: faiss-cpu==1.7.4 in /home/vscode/.local/lib/python3.9/site-packages (from -r ../requirements.txt (line 15)) (1.7.4)\n",
      "Requirement already satisfied: azure-core<2.0.0,>=1.0.0 in /home/vscode/.local/lib/python3.9/site-packages (from azure-identity==1.6.0->-r ../requirements.txt (line 1)) (1.27.1)\n",
      "Requirement already satisfied: cryptography>=2.1.4 in /home/vscode/.local/lib/python3.9/site-packages (from azure-identity==1.6.0->-r ../requirements.txt (line 1)) (41.0.1)\n",
      "Requirement already satisfied: msal<2.0.0,>=1.7.0 in /home/vscode/.local/lib/python3.9/site-packages (from azure-identity==1.6.0->-r ../requirements.txt (line 1)) (1.22.0)\n",
      "Requirement already satisfied: msal-extensions~=0.3.0 in /home/vscode/.local/lib/python3.9/site-packages (from azure-identity==1.6.0->-r ../requirements.txt (line 1)) (0.3.1)\n",
      "Requirement already satisfied: six>=1.12.0 in /home/vscode/.local/lib/python3.9/site-packages (from azure-identity==1.6.0->-r ../requirements.txt (line 1)) (1.16.0)\n",
      "Requirement already satisfied: altair>=3.2.0 in /home/vscode/.local/lib/python3.9/site-packages (from streamlit==1.18.1->-r ../requirements.txt (line 2)) (4.0.0)\n",
      "Requirement already satisfied: blinker>=1.0.0 in /home/vscode/.local/lib/python3.9/site-packages (from streamlit==1.18.1->-r ../requirements.txt (line 2)) (1.6.2)\n",
      "Requirement already satisfied: cachetools>=4.0 in /home/vscode/.local/lib/python3.9/site-packages (from streamlit==1.18.1->-r ../requirements.txt (line 2)) (5.3.1)\n",
      "Requirement already satisfied: click>=7.0 in /home/vscode/.local/lib/python3.9/site-packages (from streamlit==1.18.1->-r ../requirements.txt (line 2)) (8.1.3)\n",
      "Requirement already satisfied: importlib-metadata>=1.4 in /home/vscode/.local/lib/python3.9/site-packages (from streamlit==1.18.1->-r ../requirements.txt (line 2)) (6.6.0)\n",
      "Requirement already satisfied: packaging>=14.1 in /home/vscode/.local/lib/python3.9/site-packages (from streamlit==1.18.1->-r ../requirements.txt (line 2)) (23.1)\n",
      "Requirement already satisfied: pillow>=6.2.0 in /home/vscode/.local/lib/python3.9/site-packages (from streamlit==1.18.1->-r ../requirements.txt (line 2)) (9.5.0)\n",
      "Requirement already satisfied: protobuf<4,>=3.12 in /home/vscode/.local/lib/python3.9/site-packages (from streamlit==1.18.1->-r ../requirements.txt (line 2)) (3.20.3)\n",
      "Requirement already satisfied: pyarrow>=4.0 in /home/vscode/.local/lib/python3.9/site-packages (from streamlit==1.18.1->-r ../requirements.txt (line 2)) (12.0.1)\n",
      "Requirement already satisfied: pympler>=0.9 in /home/vscode/.local/lib/python3.9/site-packages (from streamlit==1.18.1->-r ../requirements.txt (line 2)) (1.0.1)\n",
      "Requirement already satisfied: python-dateutil in /home/vscode/.local/lib/python3.9/site-packages (from streamlit==1.18.1->-r ../requirements.txt (line 2)) (2.8.2)\n",
      "Requirement already satisfied: requests>=2.4 in /home/vscode/.local/lib/python3.9/site-packages (from streamlit==1.18.1->-r ../requirements.txt (line 2)) (2.31.0)\n",
      "Requirement already satisfied: rich>=10.11.0 in /home/vscode/.local/lib/python3.9/site-packages (from streamlit==1.18.1->-r ../requirements.txt (line 2)) (13.4.2)\n",
      "Requirement already satisfied: semver in /home/vscode/.local/lib/python3.9/site-packages (from streamlit==1.18.1->-r ../requirements.txt (line 2)) (3.0.1)\n",
      "Requirement already satisfied: toml in /home/vscode/.local/lib/python3.9/site-packages (from streamlit==1.18.1->-r ../requirements.txt (line 2)) (0.10.2)\n",
      "Requirement already satisfied: typing-extensions>=3.10.0.0 in /home/vscode/.local/lib/python3.9/site-packages (from streamlit==1.18.1->-r ../requirements.txt (line 2)) (4.6.3)\n",
      "Requirement already satisfied: tzlocal>=1.1 in /home/vscode/.local/lib/python3.9/site-packages (from streamlit==1.18.1->-r ../requirements.txt (line 2)) (5.0.1)\n",
      "Requirement already satisfied: validators>=0.2 in /home/vscode/.local/lib/python3.9/site-packages (from streamlit==1.18.1->-r ../requirements.txt (line 2)) (0.20.0)\n",
      "Requirement already satisfied: gitpython!=3.1.19 in /home/vscode/.local/lib/python3.9/site-packages (from streamlit==1.18.1->-r ../requirements.txt (line 2)) (3.1.31)\n",
      "Requirement already satisfied: pydeck>=0.1.dev5 in /home/vscode/.local/lib/python3.9/site-packages (from streamlit==1.18.1->-r ../requirements.txt (line 2)) (0.8.1b0)\n",
      "Requirement already satisfied: tornado>=6.0.3 in /home/vscode/.local/lib/python3.9/site-packages (from streamlit==1.18.1->-r ../requirements.txt (line 2)) (6.3.2)\n",
      "Requirement already satisfied: watchdog in /home/vscode/.local/lib/python3.9/site-packages (from streamlit==1.18.1->-r ../requirements.txt (line 2)) (3.0.0)\n",
      "Requirement already satisfied: tqdm in /home/vscode/.local/lib/python3.9/site-packages (from openai==0.27.1->-r ../requirements.txt (line 3)) (4.65.0)\n",
      "Requirement already satisfied: aiohttp in /home/vscode/.local/lib/python3.9/site-packages (from openai==0.27.1->-r ../requirements.txt (line 3)) (3.8.4)\n",
      "Requirement already satisfied: contourpy>=1.0.1 in /home/vscode/.local/lib/python3.9/site-packages (from matplotlib==3.6.3->-r ../requirements.txt (line 7)) (1.1.0)\n",
      "Requirement already satisfied: cycler>=0.10 in /home/vscode/.local/lib/python3.9/site-packages (from matplotlib==3.6.3->-r ../requirements.txt (line 7)) (0.11.0)\n",
      "Requirement already satisfied: fonttools>=4.22.0 in /home/vscode/.local/lib/python3.9/site-packages (from matplotlib==3.6.3->-r ../requirements.txt (line 7)) (4.40.0)\n",
      "Requirement already satisfied: kiwisolver>=1.0.1 in /home/vscode/.local/lib/python3.9/site-packages (from matplotlib==3.6.3->-r ../requirements.txt (line 7)) (1.4.4)\n",
      "Requirement already satisfied: pyparsing>=2.2.1 in /home/vscode/.local/lib/python3.9/site-packages (from matplotlib==3.6.3->-r ../requirements.txt (line 7)) (3.0.9)\n",
      "Requirement already satisfied: joblib>=1.1.1 in /home/vscode/.local/lib/python3.9/site-packages (from scikit-learn==1.2.0->-r ../requirements.txt (line 10)) (1.2.0)\n",
      "Requirement already satisfied: threadpoolctl>=2.0.0 in /home/vscode/.local/lib/python3.9/site-packages (from scikit-learn==1.2.0->-r ../requirements.txt (line 10)) (3.1.0)\n",
      "Requirement already satisfied: blobfile>=2 in /home/vscode/.local/lib/python3.9/site-packages (from tiktoken==0.3.0->-r ../requirements.txt (line 12)) (2.0.2)\n",
      "Requirement already satisfied: regex>=2022.1.18 in /home/vscode/.local/lib/python3.9/site-packages (from tiktoken==0.3.0->-r ../requirements.txt (line 12)) (2023.6.3)\n",
      "Requirement already satisfied: dataclasses-json in /home/vscode/.local/lib/python3.9/site-packages (from llama-index==0.4.33->-r ../requirements.txt (line 13)) (0.5.8)\n",
      "Requirement already satisfied: PyYAML>=5.4.1 in /home/vscode/.local/lib/python3.9/site-packages (from langchain==0.0.129->-r ../requirements.txt (line 14)) (6.0)\n",
      "Requirement already satisfied: SQLAlchemy<2,>=1 in /home/vscode/.local/lib/python3.9/site-packages (from langchain==0.0.129->-r ../requirements.txt (line 14)) (1.4.48)\n",
      "Requirement already satisfied: pydantic<2,>=1 in /home/vscode/.local/lib/python3.9/site-packages (from langchain==0.0.129->-r ../requirements.txt (line 14)) (1.10.9)\n",
      "Requirement already satisfied: pytz>=2020.1 in /home/vscode/.local/lib/python3.9/site-packages (from pandas->-r ../requirements.txt (line 6)) (2023.3)\n",
      "Requirement already satisfied: tzdata>=2022.1 in /home/vscode/.local/lib/python3.9/site-packages (from pandas->-r ../requirements.txt (line 6)) (2023.3)\n",
      "Requirement already satisfied: attrs>=17.3.0 in /home/vscode/.local/lib/python3.9/site-packages (from aiohttp->openai==0.27.1->-r ../requirements.txt (line 3)) (23.1.0)\n",
      "Requirement already satisfied: charset-normalizer<4.0,>=2.0 in /home/vscode/.local/lib/python3.9/site-packages (from aiohttp->openai==0.27.1->-r ../requirements.txt (line 3)) (3.1.0)\n",
      "Requirement already satisfied: multidict<7.0,>=4.5 in /home/vscode/.local/lib/python3.9/site-packages (from aiohttp->openai==0.27.1->-r ../requirements.txt (line 3)) (6.0.4)\n",
      "Requirement already satisfied: async-timeout<5.0,>=4.0.0a3 in /home/vscode/.local/lib/python3.9/site-packages (from aiohttp->openai==0.27.1->-r ../requirements.txt (line 3)) (4.0.2)\n",
      "Requirement already satisfied: yarl<2.0,>=1.0 in /home/vscode/.local/lib/python3.9/site-packages (from aiohttp->openai==0.27.1->-r ../requirements.txt (line 3)) (1.9.2)\n",
      "Requirement already satisfied: frozenlist>=1.1.1 in /home/vscode/.local/lib/python3.9/site-packages (from aiohttp->openai==0.27.1->-r ../requirements.txt (line 3)) (1.3.3)\n",
      "Requirement already satisfied: aiosignal>=1.1.2 in /home/vscode/.local/lib/python3.9/site-packages (from aiohttp->openai==0.27.1->-r ../requirements.txt (line 3)) (1.3.1)\n",
      "Requirement already satisfied: entrypoints in /home/vscode/.local/lib/python3.9/site-packages (from altair>=3.2.0->streamlit==1.18.1->-r ../requirements.txt (line 2)) (0.4)\n",
      "Requirement already satisfied: jinja2 in /home/vscode/.local/lib/python3.9/site-packages (from altair>=3.2.0->streamlit==1.18.1->-r ../requirements.txt (line 2)) (3.1.2)\n",
      "Requirement already satisfied: jsonschema in /home/vscode/.local/lib/python3.9/site-packages (from altair>=3.2.0->streamlit==1.18.1->-r ../requirements.txt (line 2)) (4.17.3)\n",
      "Requirement already satisfied: toolz in /home/vscode/.local/lib/python3.9/site-packages (from altair>=3.2.0->streamlit==1.18.1->-r ../requirements.txt (line 2)) (0.12.0)\n",
      "Requirement already satisfied: pycryptodomex~=3.8 in /home/vscode/.local/lib/python3.9/site-packages (from blobfile>=2->tiktoken==0.3.0->-r ../requirements.txt (line 12)) (3.18.0)\n",
      "Requirement already satisfied: urllib3<3,>=1.25.3 in /home/vscode/.local/lib/python3.9/site-packages (from blobfile>=2->tiktoken==0.3.0->-r ../requirements.txt (line 12)) (2.0.3)\n",
      "Requirement already satisfied: lxml~=4.9 in /home/vscode/.local/lib/python3.9/site-packages (from blobfile>=2->tiktoken==0.3.0->-r ../requirements.txt (line 12)) (4.9.2)\n",
      "Requirement already satisfied: filelock~=3.0 in /home/vscode/.local/lib/python3.9/site-packages (from blobfile>=2->tiktoken==0.3.0->-r ../requirements.txt (line 12)) (3.12.2)\n",
      "Requirement already satisfied: cffi>=1.12 in /home/vscode/.local/lib/python3.9/site-packages (from cryptography>=2.1.4->azure-identity==1.6.0->-r ../requirements.txt (line 1)) (1.15.1)\n",
      "Requirement already satisfied: marshmallow<4.0.0,>=3.3.0 in /home/vscode/.local/lib/python3.9/site-packages (from dataclasses-json->llama-index==0.4.33->-r ../requirements.txt (line 13)) (3.19.0)\n",
      "Requirement already satisfied: marshmallow-enum<2.0.0,>=1.5.1 in /home/vscode/.local/lib/python3.9/site-packages (from dataclasses-json->llama-index==0.4.33->-r ../requirements.txt (line 13)) (1.5.1)\n",
      "Requirement already satisfied: typing-inspect>=0.4.0 in /home/vscode/.local/lib/python3.9/site-packages (from dataclasses-json->llama-index==0.4.33->-r ../requirements.txt (line 13)) (0.9.0)\n",
      "Requirement already satisfied: gitdb<5,>=4.0.1 in /home/vscode/.local/lib/python3.9/site-packages (from gitpython!=3.1.19->streamlit==1.18.1->-r ../requirements.txt (line 2)) (4.0.10)\n",
      "Requirement already satisfied: zipp>=0.5 in /home/vscode/.local/lib/python3.9/site-packages (from importlib-metadata>=1.4->streamlit==1.18.1->-r ../requirements.txt (line 2)) (3.15.0)\n",
      "Requirement already satisfied: PyJWT[crypto]<3,>=1.0.0 in /home/vscode/.local/lib/python3.9/site-packages (from msal<2.0.0,>=1.7.0->azure-identity==1.6.0->-r ../requirements.txt (line 1)) (2.7.0)\n",
      "Requirement already satisfied: portalocker<3,>=1.0 in /home/vscode/.local/lib/python3.9/site-packages (from msal-extensions~=0.3.0->azure-identity==1.6.0->-r ../requirements.txt (line 1)) (2.7.0)\n",
      "Requirement already satisfied: idna<4,>=2.5 in /home/vscode/.local/lib/python3.9/site-packages (from requests>=2.4->streamlit==1.18.1->-r ../requirements.txt (line 2)) (3.4)\n",
      "Requirement already satisfied: certifi>=2017.4.17 in /home/vscode/.local/lib/python3.9/site-packages (from requests>=2.4->streamlit==1.18.1->-r ../requirements.txt (line 2)) (2023.5.7)\n",
      "Requirement already satisfied: markdown-it-py>=2.2.0 in /home/vscode/.local/lib/python3.9/site-packages (from rich>=10.11.0->streamlit==1.18.1->-r ../requirements.txt (line 2)) (3.0.0)\n",
      "Requirement already satisfied: pygments<3.0.0,>=2.13.0 in /home/vscode/.local/lib/python3.9/site-packages (from rich>=10.11.0->streamlit==1.18.1->-r ../requirements.txt (line 2)) (2.15.1)\n",
      "Requirement already satisfied: greenlet!=0.4.17 in /home/vscode/.local/lib/python3.9/site-packages (from SQLAlchemy<2,>=1->langchain==0.0.129->-r ../requirements.txt (line 14)) (2.0.2)\n",
      "Requirement already satisfied: decorator>=3.4.0 in /home/vscode/.local/lib/python3.9/site-packages (from validators>=0.2->streamlit==1.18.1->-r ../requirements.txt (line 2)) (5.1.1)\n",
      "Requirement already satisfied: pycparser in /home/vscode/.local/lib/python3.9/site-packages (from cffi>=1.12->cryptography>=2.1.4->azure-identity==1.6.0->-r ../requirements.txt (line 1)) (2.21)\n",
      "Requirement already satisfied: smmap<6,>=3.0.1 in /home/vscode/.local/lib/python3.9/site-packages (from gitdb<5,>=4.0.1->gitpython!=3.1.19->streamlit==1.18.1->-r ../requirements.txt (line 2)) (5.0.0)\n",
      "Requirement already satisfied: MarkupSafe>=2.0 in /home/vscode/.local/lib/python3.9/site-packages (from jinja2->altair>=3.2.0->streamlit==1.18.1->-r ../requirements.txt (line 2)) (2.1.3)\n",
      "Requirement already satisfied: mdurl~=0.1 in /home/vscode/.local/lib/python3.9/site-packages (from markdown-it-py>=2.2.0->rich>=10.11.0->streamlit==1.18.1->-r ../requirements.txt (line 2)) (0.1.2)\n",
      "Requirement already satisfied: mypy-extensions>=0.3.0 in /home/vscode/.local/lib/python3.9/site-packages (from typing-inspect>=0.4.0->dataclasses-json->llama-index==0.4.33->-r ../requirements.txt (line 13)) (1.0.0)\n",
      "Requirement already satisfied: pyrsistent!=0.17.0,!=0.17.1,!=0.17.2,>=0.14.0 in /home/vscode/.local/lib/python3.9/site-packages (from jsonschema->altair>=3.2.0->streamlit==1.18.1->-r ../requirements.txt (line 2)) (0.19.3)\n"
     ]
    }
   ],
   "source": [
    "!pip install -r ../requirements.txt"
   ]
  },
  {
   "cell_type": "code",
   "execution_count": 2,
   "metadata": {},
   "outputs": [],
   "source": [
    "import os\n",
    "import openai\n",
    "from dotenv import load_dotenv\n",
    "from langchain.chat_models import AzureChatOpenAI\n",
    "from langchain.embeddings import OpenAIEmbeddings\n",
    "\n",
    "# Load environment variables (set OPENAI_API_KEY and OPENAI_API_BASE in .env)\n",
    "load_dotenv()\n",
    "\n",
    "# Configure Azure OpenAI Service API\n",
    "openai.api_type = \"azure\"\n",
    "openai.api_version = \"2023-03-15-preview\"\n",
    "openai.api_base = os.getenv('OPENAI_API_BASE')\n",
    "openai.api_key = os.getenv(\"OPENAI_API_KEY\")\n",
    "\n",
    "# Init LLM and embeddings model\n",
    "llm = AzureChatOpenAI(deployment_name=\"gpt-35-turbo\", temperature=0, openai_api_version=\"2023-03-15-preview\")\n",
    "embeddings = OpenAIEmbeddings(model=\"text-embedding-ada-002\", chunk_size=1)"
   ]
  },
  {
   "attachments": {},
   "cell_type": "markdown",
   "metadata": {},
   "source": [
    "First, we load up our documents from the `data` directory:"
   ]
  },
  {
   "cell_type": "code",
   "execution_count": 3,
   "metadata": {},
   "outputs": [],
   "source": [
    "from langchain.document_loaders import DirectoryLoader\n",
    "from langchain.document_loaders import TextLoader\n",
    "from langchain.text_splitter import TokenTextSplitter\n",
    "\n",
    "loader = DirectoryLoader('../data/qna/', glob=\"*.txt\", loader_cls=TextLoader)\n",
    "\n",
    "documents = loader.load()\n",
    "text_splitter = TokenTextSplitter(chunk_size=1000, chunk_overlap=0)\n",
    "docs = text_splitter.split_documents(documents)"
   ]
  },
  {
   "attachments": {},
   "cell_type": "markdown",
   "metadata": {},
   "source": [
    "Next, let's ingest them into FAISS so we can efficiently query our embeddings:"
   ]
  },
  {
   "cell_type": "code",
   "execution_count": 4,
   "metadata": {},
   "outputs": [],
   "source": [
    "from langchain.vectorstores import FAISS\n",
    "db = FAISS.from_documents(documents=docs, embedding=embeddings)"
   ]
  },
  {
   "attachments": {},
   "cell_type": "markdown",
   "metadata": {},
   "source": [
    "Now let's create a chain that can do the whole chat on our embedding database:"
   ]
  },
  {
   "cell_type": "code",
   "execution_count": 5,
   "metadata": {},
   "outputs": [],
   "source": [
    "from langchain.chains import ConversationalRetrievalChain\n",
    "from langchain.prompts import PromptTemplate\n",
    "\n",
    "# Adapt if needed\n",
    "CONDENSE_QUESTION_PROMPT = PromptTemplate.from_template(\"\"\"Given the following conversation and a follow up question, rephrase the follow up question to be a standalone question.\n",
    "\n",
    "Chat History:\n",
    "{chat_history}\n",
    "Follow Up Input: {question}\n",
    "Standalone question:\"\"\")\n",
    "\n",
    "qa = ConversationalRetrievalChain.from_llm(llm=llm,\n",
    "                                           retriever=db.as_retriever(),\n",
    "                                           condense_question_prompt=CONDENSE_QUESTION_PROMPT,\n",
    "                                           return_source_documents=True,\n",
    "                                           verbose=False)"
   ]
  },
  {
   "attachments": {},
   "cell_type": "markdown",
   "metadata": {},
   "source": [
    "Now let's ask a question:"
   ]
  },
  {
   "cell_type": "code",
   "execution_count": 6,
   "metadata": {},
   "outputs": [
    {
     "name": "stdout",
     "output_type": "stream",
     "text": [
      "Azure OpenAI is a service provided by Microsoft that offers REST API access to powerful language models developed by OpenAI, including GPT-3, Codex, and Embeddings. These models can be adapted to various tasks such as content generation, summarization, semantic search, and natural language to code translation. The service can be accessed through REST APIs, Python SDK or a web-based interface called Azure OpenAI Studio and offers responsible AI features, virtual network support, content filtering, and managed identity via Azure Active Directory.\n"
     ]
    }
   ],
   "source": [
    "chat_history = []\n",
    "query = \"what is azure openai service?\"\n",
    "result = qa({\"question\": query, \"chat_history\": chat_history})\n",
    "print(result[\"answer\"])"
   ]
  },
  {
   "attachments": {},
   "cell_type": "markdown",
   "metadata": {},
   "source": [
    "We can use this to easy implement chat conversations:"
   ]
  },
  {
   "cell_type": "code",
   "execution_count": 7,
   "metadata": {},
   "outputs": [
    {
     "name": "stdout",
     "output_type": "stream",
     "text": [
      "Question: what is Azure OpenAI Service?\n",
      "Answer: Azure OpenAI Service provides REST API access to OpenAI's language models such as GPT-3, Codex, and Embeddings. These models can be used for content generation, summarization, semantic search, and natural language to code translation. Azure OpenAI is available through REST APIs, Python SDK, and a web-based interface called Azure OpenAI Studio. In addition, Azure OpenAI comes with virtual network support, managed identity, content filtering, and responsible AI. Access to Azure OpenAI is currently limited to existing Microsoft partners and users who have well-defined use cases.\n",
      "Question: Which regions does the service support?\n",
      "Answer: Azure OpenAI Service currently supports the following regions: East US, South Central US, and West Europe.\n"
     ]
    }
   ],
   "source": [
    "chat_history = []\n",
    "\n",
    "query = \"what is Azure OpenAI Service?\"\n",
    "result = qa({\"question\": query, \"chat_history\": chat_history})\n",
    "print(\"Question:\", query)\n",
    "print(\"Answer:\", result[\"answer\"])\n",
    "\n",
    "chat_history = [(query, result[\"answer\"])]\n",
    "query = \"Which regions does the service support?\"\n",
    "result = qa({\"question\": query, \"chat_history\": chat_history})\n",
    "print(\"Question:\", query)\n",
    "print(\"Answer:\", result[\"answer\"])"
   ]
  },
  {
   "cell_type": "code",
   "execution_count": null,
   "metadata": {},
   "outputs": [],
   "source": []
  }
 ],
 "metadata": {
  "kernelspec": {
   "display_name": "openai-qna-env",
   "language": "python",
   "name": "python3"
  },
  "language_info": {
   "codemirror_mode": {
    "name": "ipython",
    "version": 3
   },
   "file_extension": ".py",
   "mimetype": "text/x-python",
   "name": "python",
   "nbconvert_exporter": "python",
   "pygments_lexer": "ipython3",
   "version": "3.9.2"
  },
  "orig_nbformat": 4,
  "vscode": {
   "interpreter": {
    "hash": "c4ee1bbf3137c7ea9420c4fd488a55642063e5739fe2a7286130d9ba47405b69"
   }
  }
 },
 "nbformat": 4,
 "nbformat_minor": 2
}
